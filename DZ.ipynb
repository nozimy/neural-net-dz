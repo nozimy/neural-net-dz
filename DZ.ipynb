{
  "nbformat": 4,
  "nbformat_minor": 0,
  "metadata": {
    "colab": {
      "name": "DZ.ipynb",
      "version": "0.3.2",
      "provenance": [],
      "collapsed_sections": [],
      "toc_visible": true
    },
    "kernelspec": {
      "name": "python3",
      "display_name": "Python 3"
    }
  },
  "cells": [
    {
      "metadata": {
        "id": "Hs37YgY_TxMg",
        "colab_type": "text"
      },
      "cell_type": "markdown",
      "source": [
        "# ДЗ по курсу Нейронные сети\n",
        "Student: Юнусов Н.\n",
        "\n",
        "Advisor: Боровик И.Г."
      ]
    },
    {
      "metadata": {
        "id": "_wTgdc1tSRTj",
        "colab_type": "text"
      },
      "cell_type": "markdown",
      "source": [
        "#Подготовка данных"
      ]
    },
    {
      "metadata": {
        "id": "eAYFY12nT4-p",
        "colab_type": "text"
      },
      "cell_type": "markdown",
      "source": [
        "Соединение с гугл диском"
      ]
    },
    {
      "metadata": {
        "id": "NPcEIcoUT85P",
        "colab_type": "code",
        "colab": {}
      },
      "cell_type": "code",
      "source": [
        "!pip install -U -q PyDrive\n",
        "\n",
        "import tensorflow as tf\n",
        "import timeit\n",
        "\n",
        "config = tf.ConfigProto()\n",
        "config.gpu_options.allow_growth = True\n",
        "\n",
        "from pydrive.auth import GoogleAuth\n",
        "from pydrive.drive import GoogleDrive\n",
        "from google.colab import auth\n",
        "from oauth2client.client import GoogleCredentials\n",
        "\n",
        "# Authenticate and create the PyDrive client.\n",
        "auth.authenticate_user()\n",
        "gauth = GoogleAuth()\n",
        "gauth.credentials = GoogleCredentials.get_application_default()\n",
        "drive = GoogleDrive(gauth)"
      ],
      "execution_count": 0,
      "outputs": []
    },
    {
      "metadata": {
        "id": "UMSi9p4JVYH1",
        "colab_type": "text"
      },
      "cell_type": "markdown",
      "source": [
        "Удалить папки B и P"
      ]
    },
    {
      "metadata": {
        "id": "A55cC2lwVeFN",
        "colab_type": "code",
        "colab": {}
      },
      "cell_type": "code",
      "source": [
        "# remove files\n",
        "!rm -r B/* && rm -r P/*\n",
        "# remove folders\n",
        "!rm -rf B && rm -rf P"
      ],
      "execution_count": 0,
      "outputs": []
    },
    {
      "metadata": {
        "id": "Dm7BZyZVUIpA",
        "colab_type": "text"
      },
      "cell_type": "markdown",
      "source": [
        "Скачать изображения с гугл.диска и хранить в массиве images как объекты PIL.Image"
      ]
    },
    {
      "metadata": {
        "id": "ykT-iNoEUMNy",
        "colab_type": "code",
        "outputId": "6cbe5d3e-8b23-4396-a953-8226be924726",
        "colab": {
          "base_uri": "https://localhost:8080/",
          "height": 71
        }
      },
      "cell_type": "code",
      "source": [
        "from PIL import Image\n",
        "\n",
        "rootFolderId = 'root'\n",
        "dzFolderId = '1IAioGRkyqOcAl_XByITHXSyxz1UrPke5'\n",
        "BFolderId = '1x6QO6PURAaawvwa2O-_DuYolI2vwLobn'\n",
        "PFolderId = '1ObfmkAN6sihTUczxp_lYAV3escWzvy66'\n",
        "BtestFolderId = '1J7NmNvXCuY8Z6fDVQkIATrNuuuFE1wlp'\n",
        "PtestFolderId = '1WbpV6mEL-iCZyp0tK-JbwI4C_l_aKR8T'\n",
        "\n",
        "# Создаем папки для изображений\n",
        "!mkdir -p B && mkdir -p P\n",
        "# !mkdir -p Btest && mkdir -p Ptest\n",
        "\n",
        "images = []\n",
        "\n",
        "#download B\n",
        "file_list = drive.ListFile({\n",
        "    'q': \"'{id}' in parents and trashed=false\".format(id=BFolderId)\n",
        "}).GetList()\n",
        "for file1 in file_list:\n",
        "  # print('title: %s, id: %s' % (file1['title'], file1['id']))\n",
        "  downloaded = drive.CreateFile({'id': file1['id']})\n",
        "  filename = 'B/{filename}'.format(filename=file1['title'])\n",
        "  downloaded.GetContentFile(filename) # Download file as 'filename.png'.\n",
        "  img = Image.open(filename)\n",
        "  images.append(img)\n",
        "\n",
        "#download P\n",
        "file_list = drive.ListFile({\n",
        "    'q': \"'{id}' in parents and trashed=false\".format(id=PFolderId)\n",
        "}).GetList()\n",
        "for file1 in file_list:\n",
        "  # print('title: %s, id: %s' % (file1['title'], file1['id']))\n",
        "  downloaded = drive.CreateFile({'id': file1['id']})\n",
        "  filename = 'P/{filename}'.format(filename=file1['title'])\n",
        "  downloaded.GetContentFile(filename) # Download file as 'filename.png'.\n",
        "  img = Image.open(filename)\n",
        "  images.append(img) \n",
        "\n",
        "print(images)\n",
        "print(len(images))"
      ],
      "execution_count": 0,
      "outputs": [
        {
          "output_type": "stream",
          "text": [
            "[<PIL.PngImagePlugin.PngImageFile image mode=RGB size=1200x900 at 0x7FA38F0ABCF8>, <PIL.PngImagePlugin.PngImageFile image mode=RGB size=1200x900 at 0x7FA38F31BF28>, <PIL.PngImagePlugin.PngImageFile image mode=RGB size=1200x900 at 0x7FA38F341128>, <PIL.PngImagePlugin.PngImageFile image mode=RGB size=1200x900 at 0x7FA38F308B70>, <PIL.PngImagePlugin.PngImageFile image mode=RGB size=1200x900 at 0x7FA38F305AC8>, <PIL.PngImagePlugin.PngImageFile image mode=RGB size=1200x900 at 0x7FA38F341C18>, <PIL.PngImagePlugin.PngImageFile image mode=RGB size=1200x900 at 0x7FA38ED58DD8>, <PIL.PngImagePlugin.PngImageFile image mode=RGB size=1200x900 at 0x7FA38F308320>, <PIL.PngImagePlugin.PngImageFile image mode=RGB size=1200x900 at 0x7FA38F3355C0>, <PIL.PngImagePlugin.PngImageFile image mode=RGB size=1200x900 at 0x7FA38F3417B8>, <PIL.PngImagePlugin.PngImageFile image mode=RGB size=1200x900 at 0x7FA3921F4160>, <PIL.PngImagePlugin.PngImageFile image mode=RGB size=1200x900 at 0x7FA38ED38DD8>, <PIL.PngImagePlugin.PngImageFile image mode=RGB size=1200x900 at 0x7FA38ED195C0>, <PIL.PngImagePlugin.PngImageFile image mode=RGB size=1200x900 at 0x7FA38F095B00>, <PIL.PngImagePlugin.PngImageFile image mode=RGB size=1200x900 at 0x7FA38ED19C88>, <PIL.PngImagePlugin.PngImageFile image mode=RGB size=1200x900 at 0x7FA38F33FDD8>, <PIL.PngImagePlugin.PngImageFile image mode=RGB size=1200x900 at 0x7FA38ED49048>, <PIL.PngImagePlugin.PngImageFile image mode=RGB size=1200x900 at 0x7FA38F0ABE10>, <PIL.PngImagePlugin.PngImageFile image mode=RGB size=1200x900 at 0x7FA38ED77EB8>, <PIL.PngImagePlugin.PngImageFile image mode=RGB size=1200x900 at 0x7FA38EBA8D30>, <PIL.PngImagePlugin.PngImageFile image mode=RGB size=1200x900 at 0x7FA38EB9B128>, <PIL.PngImagePlugin.PngImageFile image mode=RGB size=1200x900 at 0x7FA38EBBCF98>, <PIL.PngImagePlugin.PngImageFile image mode=RGB size=1200x900 at 0x7FA38EB9B588>, <PIL.PngImagePlugin.PngImageFile image mode=RGB size=1200x900 at 0x7FA38EBBA5C0>, <PIL.PngImagePlugin.PngImageFile image mode=RGB size=1200x900 at 0x7FA38F2E6FD0>, <PIL.PngImagePlugin.PngImageFile image mode=RGB size=1200x900 at 0x7FA38ED77A90>, <PIL.PngImagePlugin.PngImageFile image mode=RGB size=1200x900 at 0x7FA38F2F1470>, <PIL.PngImagePlugin.PngImageFile image mode=RGB size=1200x900 at 0x7FA38EBB6EB8>, <PIL.PngImagePlugin.PngImageFile image mode=RGB size=1200x900 at 0x7FA38EBAC780>, <PIL.PngImagePlugin.PngImageFile image mode=RGB size=1200x900 at 0x7FA38EBBA2E8>, <PIL.PngImagePlugin.PngImageFile image mode=RGB size=1200x900 at 0x7FA38EBB6860>, <PIL.PngImagePlugin.PngImageFile image mode=RGB size=1200x900 at 0x7FA38ED77898>, <PIL.PngImagePlugin.PngImageFile image mode=RGB size=1200x900 at 0x7FA38EBB6D30>, <PIL.PngImagePlugin.PngImageFile image mode=RGB size=1200x900 at 0x7FA38F33F4E0>, <PIL.PngImagePlugin.PngImageFile image mode=RGB size=1200x900 at 0x7FA38F33F898>, <PIL.PngImagePlugin.PngImageFile image mode=RGB size=1200x900 at 0x7FA38ED15E80>, <PIL.PngImagePlugin.PngImageFile image mode=RGB size=1200x900 at 0x7FA38ED19F60>, <PIL.PngImagePlugin.PngImageFile image mode=RGB size=1200x900 at 0x7FA38EBB6CF8>, <PIL.PngImagePlugin.PngImageFile image mode=RGB size=1200x900 at 0x7FA38F0B1978>, <PIL.PngImagePlugin.PngImageFile image mode=RGB size=1200x900 at 0x7FA38F0B16D8>, <PIL.PngImagePlugin.PngImageFile image mode=RGB size=1200x900 at 0x7FA38F335FD0>, <PIL.PngImagePlugin.PngImageFile image mode=RGB size=1200x900 at 0x7FA38ED6C748>, <PIL.PngImagePlugin.PngImageFile image mode=RGB size=1200x900 at 0x7FA38F3413C8>, <PIL.PngImagePlugin.PngImageFile image mode=RGB size=1200x900 at 0x7FA38ED80F98>, <PIL.PngImagePlugin.PngImageFile image mode=RGB size=1200x900 at 0x7FA38F2E4898>, <PIL.PngImagePlugin.PngImageFile image mode=RGB size=1200x900 at 0x7FA38F341668>, <PIL.PngImagePlugin.PngImageFile image mode=RGB size=1200x900 at 0x7FA38EED7B70>, <PIL.PngImagePlugin.PngImageFile image mode=RGB size=1200x900 at 0x7FA38F2C26D8>, <PIL.PngImagePlugin.PngImageFile image mode=RGB size=1200x900 at 0x7FA38ED80828>, <PIL.PngImagePlugin.PngImageFile image mode=RGB size=1200x900 at 0x7FA38ED80C18>, <PIL.PngImagePlugin.PngImageFile image mode=RGB size=1200x900 at 0x7FA38ED19198>, <PIL.PngImagePlugin.PngImageFile image mode=RGB size=1200x900 at 0x7FA38F0ADA90>, <PIL.PngImagePlugin.PngImageFile image mode=RGB size=1200x900 at 0x7FA38F3367B8>, <PIL.PngImagePlugin.PngImageFile image mode=RGB size=1200x900 at 0x7FA38F095FD0>, <PIL.PngImagePlugin.PngImageFile image mode=RGB size=1200x900 at 0x7FA38ED77668>, <PIL.PngImagePlugin.PngImageFile image mode=RGB size=1200x900 at 0x7FA38F095978>, <PIL.PngImagePlugin.PngImageFile image mode=RGB size=1200x900 at 0x7FA38EBB90F0>, <PIL.PngImagePlugin.PngImageFile image mode=RGB size=1200x900 at 0x7FA38EEF5588>, <PIL.PngImagePlugin.PngImageFile image mode=RGB size=1200x900 at 0x7FA38EB9B5C0>, <PIL.PngImagePlugin.PngImageFile image mode=RGB size=1200x900 at 0x7FA38F71FCF8>, <PIL.PngImagePlugin.PngImageFile image mode=RGB size=1200x900 at 0x7FA38F71F160>, <PIL.PngImagePlugin.PngImageFile image mode=RGB size=1200x900 at 0x7FA39221BA58>, <PIL.PngImagePlugin.PngImageFile image mode=RGB size=1200x900 at 0x7FA38F3C2C88>, <PIL.PngImagePlugin.PngImageFile image mode=RGB size=1200x900 at 0x7FA38F3D6978>, <PIL.PngImagePlugin.PngImageFile image mode=RGB size=1200x900 at 0x7FA38F3C26D8>, <PIL.PngImagePlugin.PngImageFile image mode=RGB size=1200x900 at 0x7FA39222D7F0>, <PIL.PngImagePlugin.PngImageFile image mode=RGB size=1200x900 at 0x7FA39222BA58>, <PIL.PngImagePlugin.PngImageFile image mode=RGB size=1200x900 at 0x7FA38F71FA20>, <PIL.PngImagePlugin.PngImageFile image mode=RGB size=1200x900 at 0x7FA392204470>, <PIL.PngImagePlugin.PngImageFile image mode=RGB size=1200x900 at 0x7FA38EBBCD68>, <PIL.PngImagePlugin.PngImageFile image mode=RGB size=1200x900 at 0x7FA39222DF60>, <PIL.PngImagePlugin.PngImageFile image mode=RGB size=1200x900 at 0x7FA38EBA8080>, <PIL.PngImagePlugin.PngImageFile image mode=RGB size=1200x900 at 0x7FA38ED49240>, <PIL.PngImagePlugin.PngImageFile image mode=RGB size=1200x900 at 0x7FA38ED490B8>, <PIL.PngImagePlugin.PngImageFile image mode=RGB size=1200x900 at 0x7FA38F336B70>, <PIL.PngImagePlugin.PngImageFile image mode=RGB size=1200x900 at 0x7FA38F336898>, <PIL.PngImagePlugin.PngImageFile image mode=RGB size=1200x900 at 0x7FA38ED19128>, <PIL.PngImagePlugin.PngImageFile image mode=RGB size=1200x900 at 0x7FA38EBBA358>, <PIL.PngImagePlugin.PngImageFile image mode=RGB size=1200x900 at 0x7FA38ED19940>, <PIL.PngImagePlugin.PngImageFile image mode=RGB size=1200x900 at 0x7FA38ED6C048>, <PIL.PngImagePlugin.PngImageFile image mode=RGB size=1200x900 at 0x7FA3921F4D68>, <PIL.PngImagePlugin.PngImageFile image mode=RGB size=1200x900 at 0x7FA38F2C2898>, <PIL.PngImagePlugin.PngImageFile image mode=RGB size=1200x900 at 0x7FA38F3FAA58>, <PIL.PngImagePlugin.PngImageFile image mode=RGB size=1200x900 at 0x7FA38F308E10>, <PIL.PngImagePlugin.PngImageFile image mode=RGB size=1200x900 at 0x7FA38F3E3898>, <PIL.PngImagePlugin.PngImageFile image mode=RGB size=1200x900 at 0x7FA38F2C2E10>, <PIL.PngImagePlugin.PngImageFile image mode=RGB size=1200x900 at 0x7FA38F2E4908>, <PIL.PngImagePlugin.PngImageFile image mode=RGB size=1200x900 at 0x7FA38F2C2080>, <PIL.PngImagePlugin.PngImageFile image mode=RGB size=1200x900 at 0x7FA38F2E4C50>, <PIL.PngImagePlugin.PngImageFile image mode=RGB size=1200x900 at 0x7FA38ED15DA0>, <PIL.PngImagePlugin.PngImageFile image mode=RGB size=1200x900 at 0x7FA38ED15EB8>, <PIL.PngImagePlugin.PngImageFile image mode=RGB size=1200x900 at 0x7FA38F0B1048>, <PIL.PngImagePlugin.PngImageFile image mode=RGB size=1200x900 at 0x7FA38EB9BA20>, <PIL.PngImagePlugin.PngImageFile image mode=RGB size=1200x900 at 0x7FA38F336860>, <PIL.PngImagePlugin.PngImageFile image mode=RGB size=1200x900 at 0x7FA38EEF57F0>, <PIL.PngImagePlugin.PngImageFile image mode=RGB size=1200x900 at 0x7FA38F336E80>, <PIL.PngImagePlugin.PngImageFile image mode=RGB size=1200x900 at 0x7FA38EEF5F28>, <PIL.PngImagePlugin.PngImageFile image mode=RGB size=1200x900 at 0x7FA38F336630>, <PIL.PngImagePlugin.PngImageFile image mode=RGB size=1200x900 at 0x7FA38EBB60F0>, <PIL.PngImagePlugin.PngImageFile image mode=RGB size=1200x900 at 0x7FA39222D8D0>]\n",
            "100\n"
          ],
          "name": "stdout"
        }
      ]
    },
    {
      "metadata": {
        "id": "njal8xrHeNwi",
        "colab_type": "code",
        "outputId": "c10f8065-5f99-4857-ed27-497403a6b4bc",
        "colab": {
          "base_uri": "https://localhost:8080/",
          "height": 71
        }
      },
      "cell_type": "code",
      "source": [
        "from PIL import Image\n",
        "\n",
        "BtestFolderId = '1J7NmNvXCuY8Z6fDVQkIATrNuuuFE1wlp'\n",
        "PtestFolderId = '1WbpV6mEL-iCZyp0tK-JbwI4C_l_aKR8T'\n",
        "\n",
        "# Создаем папки для изображений\n",
        "!mkdir -p Btest && mkdir -p Ptest\n",
        "\n",
        "images_test = []\n",
        "\n",
        "#download B\n",
        "file_list = drive.ListFile({\n",
        "    'q': \"'{id}' in parents and trashed=false\".format(id=BtestFolderId)\n",
        "}).GetList()\n",
        "for file1 in file_list:\n",
        "  # print('title: %s, id: %s' % (file1['title'], file1['id']))\n",
        "  downloaded = drive.CreateFile({'id': file1['id']})\n",
        "  filename = 'Btest/{filename}'.format(filename=file1['title'])\n",
        "  downloaded.GetContentFile(filename) # Download file as 'filename.png'.\n",
        "  img = Image.open(filename)\n",
        "  images_test.append(img)\n",
        "\n",
        "#download P\n",
        "file_list = drive.ListFile({\n",
        "    'q': \"'{id}' in parents and trashed=false\".format(id=PtestFolderId)\n",
        "}).GetList()\n",
        "for file1 in file_list:\n",
        "  # print('title: %s, id: %s' % (file1['title'], file1['id']))\n",
        "  downloaded = drive.CreateFile({'id': file1['id']})\n",
        "  filename = 'Ptest/{filename}'.format(filename=file1['title'])\n",
        "  downloaded.GetContentFile(filename) # Download file as 'filename.png'.\n",
        "  img = Image.open(filename)\n",
        "  images_test.append(img) \n",
        "\n",
        "print(images_test)\n",
        "print(len(images_test))"
      ],
      "execution_count": 0,
      "outputs": [
        {
          "output_type": "stream",
          "text": [
            "[<PIL.PngImagePlugin.PngImageFile image mode=RGB size=1200x900 at 0x7FA38F38B940>, <PIL.PngImagePlugin.PngImageFile image mode=RGB size=1200x900 at 0x7FA38F335588>, <PIL.PngImagePlugin.PngImageFile image mode=RGB size=1200x900 at 0x7FA38F3E3EF0>, <PIL.PngImagePlugin.PngImageFile image mode=RGB size=1200x900 at 0x7FA38F335668>, <PIL.PngImagePlugin.PngImageFile image mode=RGB size=1200x900 at 0x7FA38F08DD68>, <PIL.PngImagePlugin.PngImageFile image mode=RGB size=1200x900 at 0x7FA38F3E39E8>, <PIL.PngImagePlugin.PngImageFile image mode=RGB size=1200x900 at 0x7FA38ED3B278>, <PIL.PngImagePlugin.PngImageFile image mode=RGB size=1200x900 at 0x7FA38F3E33C8>, <PIL.PngImagePlugin.PngImageFile image mode=RGB size=1200x900 at 0x7FA392204780>, <PIL.PngImagePlugin.PngImageFile image mode=RGB size=1200x900 at 0x7FA38F08DC88>]\n",
            "10\n"
          ],
          "name": "stdout"
        }
      ]
    },
    {
      "metadata": {
        "id": "oB3Rem8RbbEp",
        "colab_type": "text"
      },
      "cell_type": "markdown",
      "source": [
        "Создание набора обучающих данных"
      ]
    },
    {
      "metadata": {
        "id": "ZpuZa05hbbXj",
        "colab_type": "code",
        "colab": {}
      },
      "cell_type": "code",
      "source": [
        "from PIL import Image\n",
        "from sklearn import *\n",
        "import sklearn\n",
        "import numpy as np\n",
        "\n",
        "N = 100\n",
        "\n",
        "# Приведение изображений к размеру 16 на 16 пикселей и формату grayscale\n",
        "test_img = list(img.resize((16,16), Image.BILINEAR ) for img in images)\n",
        "test_img = list(img.convert('L') for img in test_img)\n",
        "pix = list(np.array(img) for img in test_img)\n",
        "\n",
        "# Create dataset ’s element - data and target arrays\n",
        "examples = list(np.around((255 - np.array( point )) /16) for point in pix)\n",
        "examples = np.array(examples)\n",
        "target = np.zeros((N ,), dtype =np. uint8)\n",
        "target = np.array(['B']*int(N/2) + ['P']*int(N/2) )\n",
        "\n",
        "# Create dataset\n",
        "dataset = sklearn.datasets.base.Bunch(data = examples, target = target)"
      ],
      "execution_count": 0,
      "outputs": []
    },
    {
      "metadata": {
        "id": "E_w3rxhKanl6",
        "colab_type": "text"
      },
      "cell_type": "markdown",
      "source": [
        "Создание набора тестовых данных"
      ]
    },
    {
      "metadata": {
        "id": "NK-JokrfapVl",
        "colab_type": "code",
        "colab": {}
      },
      "cell_type": "code",
      "source": [
        "from PIL import Image\n",
        "from sklearn import *\n",
        "import sklearn\n",
        "import numpy as np\n",
        "\n",
        "N = 10\n",
        "\n",
        "# Приведение изображений к размеру 16 на 16 пикселей и формату grayscale\n",
        "test_img = list(img.resize((16,16), Image.BILINEAR ) for img in images_test)\n",
        "test_img = list(img.convert('L') for img in test_img)\n",
        "pix = list(np.array(img) for img in test_img)\n",
        "\n",
        "# Create dataset ’s element - data and target arrays\n",
        "examples = list(np.around((255 - np.array( point )) /16) for point in pix)\n",
        "examples = np.array(examples)\n",
        "target = np.zeros((N ,), dtype =np. uint8)\n",
        "target = np.array(['B']*int(N/2) + ['P']*int(N/2)\n",
        "\n",
        "# Create dataset\n",
        "dataset_test = sklearn.datasets.base.Bunch(data = examples, target = target)"
      ],
      "execution_count": 0,
      "outputs": []
    },
    {
      "metadata": {
        "id": "mPitvm7BfCcw",
        "colab_type": "text"
      },
      "cell_type": "markdown",
      "source": [
        "# Построение нейронной сети"
      ]
    },
    {
      "metadata": {
        "id": "ywmiUyGpfDpp",
        "colab_type": "text"
      },
      "cell_type": "markdown",
      "source": [
        "Создание, обучение и тестирование нейронной сети"
      ]
    },
    {
      "metadata": {
        "id": "nQgNSU9xfN_5",
        "colab_type": "code",
        "outputId": "250cdcb4-ff2e-4583-f4d9-8a3c0da321ab",
        "colab": {
          "base_uri": "https://localhost:8080/",
          "height": 835
        }
      },
      "cell_type": "code",
      "source": [
        "# %matplotlib notebook\n",
        "%matplotlib inline\n",
        "\n",
        "import matplotlib\n",
        "matplotlib.rcParams['text.usetex'] = False\n",
        "\n",
        "# pgf_with_rc_fonts = {\"pgf.texsystem\": \"pdflatex\"}\n",
        "# matplotlib.rcParams.update(pgf_with_rc_fonts)\n",
        "\n",
        "from matplotlib import pyplot as plt\n",
        "from sklearn import metrics\n",
        "from sklearn.neural_network import MLPClassifier\n",
        "import numpy as np\n",
        "from matplotlib import rc\n",
        "# plt.rc('text', usetex = True )\n",
        "plt.rc('font', family ='serif')\n",
        "\n",
        "\n",
        "\n",
        "#Use previously created letters datasets\n",
        "train_set = dataset\n",
        "test_set = dataset_test\n",
        "\n",
        "# Show and save 8 train images\n",
        "images_and_labels = list(zip(train_set.data,train_set.target))\n",
        "fig_train = plt.figure(8,(6 ,4))\n",
        "for index, (image, label) in enumerate(images_and_labels[46:54]):\n",
        "  plt.subplot(2, 4, index + 1)\n",
        "  plt.axis('off')\n",
        "  plt.imshow(image, cmap=plt.cm.gray_r, interpolation ='nearest')\n",
        "  plt.title('Обучение: %c' % label )\n",
        "plt.show()\n",
        "# fig_train.savefig('train_result.eps', format = 'eps', dpi = 1000, pad_inches = 0.1)\n",
        "fig_train.savefig('train_result.png', format = 'png', dpi = 100, pad_inches = 0.1)\n",
        "\n",
        "# Flatten images, to turn the data in a ( samples , feature ) matrix\n",
        "# Приведение массива точек изображений к одномерному виду\n",
        "n_samples = len(train_set.data)\n",
        "data = train_set.data.reshape((n_samples, -1))\n",
        "\n",
        "# Different hidden layers settings\n",
        "hl_4 = (128 ,64 ,16 ,4)\n",
        "hl_3 = (128 ,32 ,8)\n",
        "hl_2 = (64 ,8)\n",
        "\n",
        "# Create a classifier : a multilayer perceptron classifier\n",
        "classifier = MLPClassifier(hidden_layer_sizes = hl_4,\n",
        "                           activation = 'relu',solver = 'sgd',\n",
        "                           learning_rate_init = 1e-4, max_iter = 1000,\n",
        "                           momentum = .9, tol = 1e-4, random_state = 1)\n",
        "\n",
        "# Learn letters from the train dataset\n",
        "classifier.fit(data, train_set.target )\n",
        "\n",
        "# Приведение массива точек изображений к одномерному виду\n",
        "n_samples_t = len(test_set.data)\n",
        "data_t = test_set.data.reshape((n_samples_t, -1))\n",
        "\n",
        "#Now predict the value of the lettets from the test dataset\n",
        "predicted = classifier.predict(data_t)\n",
        "\n",
        "# Load expected features\n",
        "expected = test_set.target\n",
        "\n",
        "# Print report and confusion matrix\n",
        "print(\"Classification  report  for  classifier  %s:\\n\\n%s\\n\" %\n",
        "       (classifier, metrics.classification_report(expected, predicted)))\n",
        "print(\"Confusion   matrix :\\n%s\" %\n",
        "      metrics.confusion_matrix(expected, predicted))\n",
        "\n",
        "# Show and save 10 test images\n",
        "images_and_predictions = list(zip(test_set.data, predicted))\n",
        "fig_predict = plt.figure(8,(7.5 ,4))\n",
        "for index, (image , prediction ) in enumerate(images_and_predictions):\n",
        "  plt.subplot(2, 5, index +1)\n",
        "  plt.axis('off')\n",
        "  plt.imshow(image , cmap=plt.cm.gray_r, interpolation ='nearest')\n",
        "  plt.title('Прогноз : %c' % prediction)\n",
        "plt.show()\n",
        "# fig_predict.savefig('predict_result_1.eps', format ='eps',dpi =1000)\n",
        "fig_predict.savefig('predict_result_1.png', format ='png',dpi =100)\n"
      ],
      "execution_count": 0,
      "outputs": [
        {
          "output_type": "display_data",
          "data": {
            "image/png": "[encoded data removed]",
            "text/plain": [
              "<matplotlib.figure.Figure at 0x7fa38ebb8f28>"
            ]
          },
          "metadata": {
            "tags": []
          }
        },
        {
          "output_type": "stream",
          "text": [
            "Classification  report  for  classifier  MLPClassifier(activation='relu', alpha=0.0001, batch_size='auto', beta_1=0.9,\n",
            "       beta_2=0.999, early_stopping=False, epsilon=1e-08,\n",
            "       hidden_layer_sizes=(128, 64, 16, 4), learning_rate='constant',\n",
            "       learning_rate_init=0.0001, max_iter=1000, momentum=0.9,\n",
            "       nesterovs_momentum=True, power_t=0.5, random_state=1, shuffle=True,\n",
            "       solver='sgd', tol=0.0001, validation_fraction=0.1, verbose=False,\n",
            "       warm_start=False):\n",
            "\n",
            "             precision    recall  f1-score   support\n",
            "\n",
            "          B       1.00      0.80      0.89         5\n",
            "          P       0.83      1.00      0.91         5\n",
            "\n",
            "avg / total       0.92      0.90      0.90        10\n",
            "\n",
            "\n",
            "Confusion   matrix :\n",
            "[[4 1]\n",
            " [0 5]]\n"
          ],
          "name": "stdout"
        },
        {
          "output_type": "display_data",
          "data": {
            "image/png": "[encoded data removed]",
            "text/plain": [
              "<matplotlib.figure.Figure at 0x7fa38ee2ad68>"
            ]
          },
          "metadata": {
            "tags": []
          }
        }
      ]
    },
    {
      "metadata": {
        "id": "Aql5zZ8VpVvD",
        "colab_type": "code",
        "colab": {}
      },
      "cell_type": "code",
      "source": [
        "from IPython.display import Image\n",
        "Image('train_result.png')"
      ],
      "execution_count": 0,
      "outputs": []
    },
    {
      "metadata": {
        "id": "u3eHpUaIqFL5",
        "colab_type": "code",
        "colab": {}
      },
      "cell_type": "code",
      "source": [
        "from IPython.display import Image\n",
        "Image('predict_result_1.png')"
      ],
      "execution_count": 0,
      "outputs": []
    }
  ]
}